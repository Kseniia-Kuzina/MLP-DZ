{
  "cells": [
    {
      "cell_type": "markdown",
      "metadata": {
        "id": "CrsUDgt-Oo5p"
      },
      "source": [
        "# Практическая работа 1-1 Numpy\n",
        "\n",
        "1. Скачайте этот ноутбук к себе.\n",
        "2. Заполните пропущенные ячейки, отвечая на заданные вопросы. Там должен быть код! (если не сказано обратное)\n",
        "3. Сохраните результат в своём гитхаб репозитории.\n",
        "\n",
        "#### Полезная литература\n",
        "\n",
        "- http://www.numpy.org/\n",
        "- https://jakevdp.github.io/PythonDataScienceHandbook/02.00-introduction-to-numpy.html\n",
        "- https://docs.scipy.org/doc/numpy/user/quickstart.html"
      ]
    },
    {
      "cell_type": "markdown",
      "metadata": {
        "id": "CB-zPHfrOo5s"
      },
      "source": [
        "1) Импортировать numpy и написать версию"
      ]
    },
    {
      "cell_type": "code",
      "execution_count": 4,
      "metadata": {
        "colab": {
          "base_uri": "https://localhost:8080/",
          "height": 36
        },
        "id": "dQ0AEpXCOo5s",
        "outputId": "2a2dcb7b-b7ac-47e4-8ba6-ec3803268cc1"
      },
      "outputs": [
        {
          "output_type": "execute_result",
          "data": {
            "text/plain": [
              "'1.23.5'"
            ],
            "application/vnd.google.colaboratory.intrinsic+json": {
              "type": "string"
            }
          },
          "metadata": {},
          "execution_count": 4
        }
      ],
      "source": [
        "import numpy as np\n",
        "\n",
        "np.version.version"
      ]
    },
    {
      "cell_type": "markdown",
      "metadata": {
        "id": "VH9kwFB1Oo5t"
      },
      "source": [
        "2) Создать нулевой вектор размера 10"
      ]
    },
    {
      "cell_type": "code",
      "execution_count": 8,
      "metadata": {
        "colab": {
          "base_uri": "https://localhost:8080/"
        },
        "id": "-RsJBQBGOo5t",
        "outputId": "23fd7f72-41f4-4968-dcf7-4c34db19124e"
      },
      "outputs": [
        {
          "output_type": "execute_result",
          "data": {
            "text/plain": [
              "array([0., 0., 0., 0., 0., 0., 0., 0., 0., 0.])"
            ]
          },
          "metadata": {},
          "execution_count": 8
        }
      ],
      "source": [
        "vector = np.zeros(10)\n",
        "vector"
      ]
    },
    {
      "cell_type": "markdown",
      "metadata": {
        "id": "T07r_948Oo5t"
      },
      "source": [
        "3) Создать вектор заполненный 7-ами размера 7"
      ]
    },
    {
      "cell_type": "code",
      "execution_count": 7,
      "metadata": {
        "colab": {
          "base_uri": "https://localhost:8080/"
        },
        "id": "NK7lo2WdOo5t",
        "outputId": "1c32f627-dc69-4300-b4f0-0b0befccbb82"
      },
      "outputs": [
        {
          "output_type": "execute_result",
          "data": {
            "text/plain": [
              "array([7, 7, 7, 7, 7, 7, 7])"
            ]
          },
          "metadata": {},
          "execution_count": 7
        }
      ],
      "source": [
        "vector = np.full((7,), 7)\n",
        "vector"
      ]
    },
    {
      "cell_type": "markdown",
      "metadata": {
        "id": "SrtYK1g9Oo5u"
      },
      "source": [
        "4) Создать вектор заполненный четными числами от 10 до 100"
      ]
    },
    {
      "cell_type": "code",
      "execution_count": 10,
      "metadata": {
        "colab": {
          "base_uri": "https://localhost:8080/"
        },
        "id": "irYuw6cXOo5u",
        "outputId": "7d0b0f9c-cedb-4365-f1d8-e46861caf374"
      },
      "outputs": [
        {
          "output_type": "execute_result",
          "data": {
            "text/plain": [
              "array([ 10,  12,  14,  16,  18,  20,  22,  24,  26,  28,  30,  32,  34,\n",
              "        36,  38,  40,  42,  44,  46,  48,  50,  52,  54,  56,  58,  60,\n",
              "        62,  64,  66,  68,  70,  72,  74,  76,  78,  80,  82,  84,  86,\n",
              "        88,  90,  92,  94,  96,  98, 100])"
            ]
          },
          "metadata": {},
          "execution_count": 10
        }
      ],
      "source": [
        "start = 10\n",
        "end = 101\n",
        "step = 2\n",
        "\n",
        "vector = np.arange(start, end, step)\n",
        "\n",
        "vector"
      ]
    },
    {
      "cell_type": "markdown",
      "metadata": {
        "id": "cq4lntqDOo5u"
      },
      "source": [
        "5) Создать массив случайных чисел и развернуть его задом наперёд"
      ]
    },
    {
      "cell_type": "code",
      "execution_count": 11,
      "metadata": {
        "colab": {
          "base_uri": "https://localhost:8080/"
        },
        "id": "kchLeAJFOo5u",
        "outputId": "05028e5f-2d3a-4890-98da-6157086aa627"
      },
      "outputs": [
        {
          "output_type": "stream",
          "name": "stdout",
          "text": [
            "Случайные числа:  [ 6  1 13  2 14  2 15  0 10 18]\n"
          ]
        }
      ],
      "source": [
        "import numpy as np\n",
        "import random\n",
        "\n",
        "array_size = 10  # Задаем размер массива\n",
        "random_numbers = np.random.randint(0, 19, size=array_size)\n",
        "print(\"Случайные числа: \", random_numbers)"
      ]
    },
    {
      "cell_type": "code",
      "source": [
        "reversed_numbers = random_numbers[::-1]\n",
        "print(\"Развернутый массив: \", reversed_numbers)"
      ],
      "metadata": {
        "colab": {
          "base_uri": "https://localhost:8080/"
        },
        "id": "xGHUAJ5GRJ3U",
        "outputId": "67a94f54-0c0a-49bd-9b2d-3f18872c262b"
      },
      "execution_count": 12,
      "outputs": [
        {
          "output_type": "stream",
          "name": "stdout",
          "text": [
            "Развернутый массив:  [18 10  0 15  2 14  2 13  1  6]\n"
          ]
        }
      ]
    },
    {
      "cell_type": "markdown",
      "metadata": {
        "id": "JRxQ7MzvOo5u"
      },
      "source": [
        "6) Создать двумерную матрицу размера 3 на 3, заполненную числами от 0 до 9"
      ]
    },
    {
      "cell_type": "code",
      "execution_count": 13,
      "metadata": {
        "colab": {
          "base_uri": "https://localhost:8080/"
        },
        "id": "4ODLNWxlOo5v",
        "outputId": "c7efb313-d2d8-4829-bf55-a38d0ff6b074"
      },
      "outputs": [
        {
          "output_type": "stream",
          "name": "stdout",
          "text": [
            "[[0 1 2 3 4 5 6 7 8 9]\n",
            " [0 1 2 3 4 5 6 7 8 9]\n",
            " [0 1 2 3 4 5 6 7 8 9]]\n"
          ]
        }
      ],
      "source": [
        "matrix = np.array([[x for x in range(0,10)] for y in range(0,3)])\n",
        "print(matrix)"
      ]
    },
    {
      "cell_type": "markdown",
      "metadata": {
        "id": "4xrkCfaHOo5v"
      },
      "source": [
        "7) Создать матрицу размера 4 на 4 с единицами на диагонали смещеной на один наверх."
      ]
    },
    {
      "cell_type": "code",
      "execution_count": 46,
      "metadata": {
        "id": "mXCfebz9Oo5v"
      },
      "outputs": [],
      "source": [
        "matrix = np.eye(4, 4)\n",
        "matrix = matrix.tolist()"
      ]
    },
    {
      "cell_type": "code",
      "source": [
        "np.eye(4, k=1)"
      ],
      "metadata": {
        "colab": {
          "base_uri": "https://localhost:8080/"
        },
        "id": "rux17oFsRc6T",
        "outputId": "9b5a4514-dbd6-4c4e-a4b8-355a04e618ee"
      },
      "execution_count": 47,
      "outputs": [
        {
          "output_type": "execute_result",
          "data": {
            "text/plain": [
              "array([[0., 1., 0., 0.],\n",
              "       [0., 0., 1., 0.],\n",
              "       [0., 0., 0., 1.],\n",
              "       [0., 0., 0., 0.]])"
            ]
          },
          "metadata": {},
          "execution_count": 47
        }
      ]
    },
    {
      "cell_type": "markdown",
      "metadata": {
        "id": "XO-9ibV6Oo5v"
      },
      "source": [
        "8) Создать матрицу с числами в диапазоне от 1 до 4 по диагонали. В других ячейках матрицы должны быть семерки."
      ]
    },
    {
      "cell_type": "code",
      "source": [
        "matrix=np.full((4, 4), 7) - np.diag([6,5,4,3])"
      ],
      "metadata": {
        "id": "jXq1i3EeVBQN"
      },
      "execution_count": 69,
      "outputs": []
    },
    {
      "cell_type": "code",
      "source": [
        "result = np.array(matrix)\n",
        "print(result)"
      ],
      "metadata": {
        "colab": {
          "base_uri": "https://localhost:8080/"
        },
        "id": "OZBLS4kSTXJ1",
        "outputId": "0bdc786f-a6f5-49a7-cec6-a6bb31a9a1e8"
      },
      "execution_count": 70,
      "outputs": [
        {
          "output_type": "stream",
          "name": "stdout",
          "text": [
            "[[1 7 7 7]\n",
            " [7 2 7 7]\n",
            " [7 7 3 7]\n",
            " [7 7 7 4]]\n"
          ]
        }
      ]
    },
    {
      "cell_type": "markdown",
      "metadata": {
        "id": "_kLUwTvKOo5v"
      },
      "source": [
        "9) Создать матрицу размера 5 на 5 заполненную чилами от 0 до 4 в строках."
      ]
    },
    {
      "cell_type": "code",
      "execution_count": 72,
      "metadata": {
        "colab": {
          "base_uri": "https://localhost:8080/"
        },
        "id": "bSoVbtnyOo5w",
        "outputId": "62320216-729f-4ab4-9551-83d9051fa4fb"
      },
      "outputs": [
        {
          "output_type": "stream",
          "name": "stdout",
          "text": [
            "[[0 1 2 3 4]\n",
            " [0 1 2 3 4]\n",
            " [0 1 2 3 4]\n",
            " [0 1 2 3 4]\n",
            " [0 1 2 3 4]]\n"
          ]
        }
      ],
      "source": [
        "matrix = np.array([[x for x in range(0,5)] for y in range(0,5)])\n",
        "print(matrix)"
      ]
    },
    {
      "cell_type": "markdown",
      "metadata": {
        "id": "ZDlN75Z0Oo5w"
      },
      "source": [
        "10) Создать матрицу случайных чисел размера 10 на 10 и отнять среднее по строкам из каждого элемента строки"
      ]
    },
    {
      "cell_type": "code",
      "execution_count": 125,
      "metadata": {
        "id": "l1vEgwzeOo5w"
      },
      "outputs": [],
      "source": [
        "matrix = [[random.randint(1, 100) for _ in range(10)] for _ in range(10)]"
      ]
    },
    {
      "cell_type": "code",
      "source": [
        "for row in matrix:\n",
        "    average = sum(row) / len(row)\n",
        "    row[:] = [num - average for num in row]"
      ],
      "metadata": {
        "id": "1qvuNwNdXRXm"
      },
      "execution_count": 126,
      "outputs": []
    },
    {
      "cell_type": "code",
      "source": [
        "for row in matrix:\n",
        "    print(row)"
      ],
      "metadata": {
        "colab": {
          "base_uri": "https://localhost:8080/"
        },
        "id": "UAfVxthTZve3",
        "outputId": "beab3db4-7cb9-4abc-c24e-a1d288ee636a"
      },
      "execution_count": 127,
      "outputs": [
        {
          "output_type": "stream",
          "name": "stdout",
          "text": [
            "[-11.3, -17.3, 15.7, -24.3, -8.3, -12.3, 32.7, 21.7, 25.7, -22.3]\n",
            "[-27.5, -38.5, 54.5, 7.5, -34.5, 33.5, -16.5, -30.5, 19.5, 32.5]\n",
            "[-15.299999999999997, -23.299999999999997, 23.700000000000003, 45.7, 21.700000000000003, -17.299999999999997, -36.3, 41.7, -13.299999999999997, -27.299999999999997]\n",
            "[13.100000000000001, 0.10000000000000142, -14.899999999999999, -2.8999999999999986, -10.899999999999999, -28.9, 34.1, 43.1, 2.1000000000000014, -34.9]\n",
            "[-32.7, -1.7000000000000028, 9.299999999999997, 3.299999999999997, -7.700000000000003, 17.299999999999997, 22.299999999999997, -10.700000000000003, -9.700000000000003, 10.299999999999997]\n",
            "[-18.0, -37.0, -29.0, 31.0, 33.0, 19.0, -11.0, 2.0, 17.0, -7.0]\n",
            "[52.3, -10.700000000000003, -10.700000000000003, 34.3, -6.700000000000003, -12.700000000000003, -36.7, -2.700000000000003, -7.700000000000003, 1.2999999999999972]\n",
            "[-12.600000000000001, -10.600000000000001, 17.4, -1.6000000000000014, -12.600000000000001, 11.399999999999999, -49.6, 32.4, 31.4, -5.600000000000001]\n",
            "[41.2, 28.200000000000003, 12.200000000000003, 50.2, -3.799999999999997, -27.799999999999997, -9.799999999999997, -39.8, -21.799999999999997, -28.799999999999997]\n",
            "[-48.5, 5.5, 0.5, 32.5, 20.5, -35.5, 36.5, 6.5, -49.5, 31.5]\n"
          ]
        }
      ]
    },
    {
      "cell_type": "markdown",
      "metadata": {
        "id": "-t_7eFgMOo5w"
      },
      "source": [
        "11) Создать матрицу случайных чисел размера 10 на 10 и отнять медиану по столбцам из каждого элемента столбца  "
      ]
    },
    {
      "cell_type": "code",
      "execution_count": 128,
      "metadata": {
        "id": "2SqenO-kOo5w"
      },
      "outputs": [],
      "source": [
        "matrix = np.random.randint(1, 100, size=(10, 10))"
      ]
    },
    {
      "cell_type": "code",
      "source": [
        "medians = np.median(matrix, axis=0)\n",
        "matrix = matrix - medians"
      ],
      "metadata": {
        "id": "6IwZdV0KhgLk"
      },
      "execution_count": 129,
      "outputs": []
    },
    {
      "cell_type": "code",
      "source": [
        "print(matrix)"
      ],
      "metadata": {
        "colab": {
          "base_uri": "https://localhost:8080/"
        },
        "id": "lkXmiV6hhgFo",
        "outputId": "7996f73b-0509-4817-a729-45f5a09d6bcb"
      },
      "execution_count": 130,
      "outputs": [
        {
          "output_type": "stream",
          "name": "stdout",
          "text": [
            "[[-16.5   0.   54.   24.5 -10.   48.5 -22.   36.5 -30.5   0. ]\n",
            " [ 20.5 -58.   48.  -51.5  -3.   -7.5 -27.   16.5 -25.5   0. ]\n",
            " [-24.5  17.   68.   -8.5 -37.  -45.5  18.   30.5   0.5  14. ]\n",
            " [-32.5  32.   54.   16.5  21.  -28.5  -3.    1.5  33.5 -52. ]\n",
            " [-26.5  15.   11.   22.5   3.   15.5   3.  -17.5  38.5  12. ]\n",
            " [ 18.5 -47.  -15.  -20.5 -39.   38.5  39.   -1.5  -0.5   6. ]\n",
            " [ 14.5 -21.  -15.  -44.5  30.   34.5  56.  -51.5 -46.5  -3. ]\n",
            " [ -1.5   0.  -11.   30.5  53.  -26.5   6.   16.5  19.5  -1. ]\n",
            " [ 22.5 -11.  -16.    8.5 -10.   -6.5  -7.  -52.5 -24.5  28. ]\n",
            " [  1.5   3.  -18.  -35.5  17.    6.5 -13.  -53.5   9.5 -60. ]]\n"
          ]
        }
      ]
    },
    {
      "cell_type": "markdown",
      "metadata": {
        "id": "T-ANID4fOo5w"
      },
      "source": [
        "12) Создать матрицу случайных чисел 5x5. Добавить к ней столбецы максимумов и минимумов по строкам. Получится матрица 5x7.  "
      ]
    },
    {
      "cell_type": "code",
      "execution_count": 131,
      "metadata": {
        "id": "fJDnzYZiOo5w"
      },
      "outputs": [],
      "source": [
        "matrix = np.random.randint(1, 100, size=(5, 5))"
      ]
    },
    {
      "cell_type": "code",
      "source": [
        "max_values = np.max(matrix, axis=1)\n",
        "matrix_with_max = np.column_stack((matrix, max_values))"
      ],
      "metadata": {
        "id": "6C9OLFJShxIw"
      },
      "execution_count": 132,
      "outputs": []
    },
    {
      "cell_type": "code",
      "source": [
        "min_values = np.min(matrix, axis=1)\n",
        "matrix_with_min_and_max = np.column_stack((matrix_with_max, min_values))"
      ],
      "metadata": {
        "id": "SVJ947cohxFY"
      },
      "execution_count": 133,
      "outputs": []
    },
    {
      "cell_type": "code",
      "source": [
        "print(matrix_with_min_and_max)"
      ],
      "metadata": {
        "colab": {
          "base_uri": "https://localhost:8080/"
        },
        "id": "GSy5Hu2AhxBR",
        "outputId": "d52091ea-03cf-47ef-b9ca-5f30e1a001fa"
      },
      "execution_count": 134,
      "outputs": [
        {
          "output_type": "stream",
          "name": "stdout",
          "text": [
            "[[62 71 31 91 69 91 31]\n",
            " [63 15 23 55 33 63 15]\n",
            " [ 1  8 32 66 51 66  1]\n",
            " [83 85 78 81 23 85 23]\n",
            " [75 13  8 30 36 75  8]]\n"
          ]
        }
      ]
    },
    {
      "cell_type": "markdown",
      "metadata": {
        "id": "g6X8jrLmOo5w"
      },
      "source": [
        "13) Вектор чисел от 1 до 51 преобразовать в вектор нечетных чисел и в вектор четных чисел, поменять их размерности, чтобы получились две матрица. Найти произведение этих матриц. Найти обратную матрицу эётого произведения.  "
      ]
    },
    {
      "cell_type": "code",
      "source": [
        "numbers = np.arange(1, 51)"
      ],
      "metadata": {
        "id": "Xm2Lm7LWjouS"
      },
      "execution_count": 216,
      "outputs": []
    },
    {
      "cell_type": "code",
      "source": [
        "odd_numbers = numbers[numbers % 2 != 0]\n",
        "even_numbers = numbers[numbers % 2 == 0]"
      ],
      "metadata": {
        "id": "qu61cdezjugb"
      },
      "execution_count": 217,
      "outputs": []
    },
    {
      "cell_type": "code",
      "source": [
        "odd_matrix = odd_numbers.reshape(len(odd_numbers),1)\n",
        "even_matrix = even_numbers.reshape(len(even_numbers),1)"
      ],
      "metadata": {
        "id": "0UMpy0Dlju4j"
      },
      "execution_count": 218,
      "outputs": []
    },
    {
      "cell_type": "code",
      "source": [
        "product_matrix = np.dot(odd_matrix, even_matrix.T)"
      ],
      "metadata": {
        "id": "qtkxn3XYjwYg"
      },
      "execution_count": 219,
      "outputs": []
    },
    {
      "cell_type": "code",
      "source": [
        "inverse_matrix = np.linalg.inv(product_matrix)"
      ],
      "metadata": {
        "colab": {
          "base_uri": "https://localhost:8080/",
          "height": 333
        },
        "id": "O15_0g7pjx7R",
        "outputId": "a5211fae-a1f6-487f-f0b8-8aeafe0dbd18"
      },
      "execution_count": 220,
      "outputs": [
        {
          "output_type": "error",
          "ename": "LinAlgError",
          "evalue": "ignored",
          "traceback": [
            "\u001b[0;31m---------------------------------------------------------------------------\u001b[0m",
            "\u001b[0;31mLinAlgError\u001b[0m                               Traceback (most recent call last)",
            "\u001b[0;32m<ipython-input-220-bce89712a331>\u001b[0m in \u001b[0;36m<cell line: 1>\u001b[0;34m()\u001b[0m\n\u001b[0;32m----> 1\u001b[0;31m \u001b[0minverse_matrix\u001b[0m \u001b[0;34m=\u001b[0m \u001b[0mnp\u001b[0m\u001b[0;34m.\u001b[0m\u001b[0mlinalg\u001b[0m\u001b[0;34m.\u001b[0m\u001b[0minv\u001b[0m\u001b[0;34m(\u001b[0m\u001b[0mproduct_matrix\u001b[0m\u001b[0;34m)\u001b[0m\u001b[0;34m\u001b[0m\u001b[0;34m\u001b[0m\u001b[0m\n\u001b[0m",
            "\u001b[0;32m/usr/local/lib/python3.10/dist-packages/numpy/core/overrides.py\u001b[0m in \u001b[0;36minv\u001b[0;34m(*args, **kwargs)\u001b[0m\n",
            "\u001b[0;32m/usr/local/lib/python3.10/dist-packages/numpy/linalg/linalg.py\u001b[0m in \u001b[0;36minv\u001b[0;34m(a)\u001b[0m\n\u001b[1;32m    550\u001b[0m     \u001b[0msignature\u001b[0m \u001b[0;34m=\u001b[0m \u001b[0;34m'D->D'\u001b[0m \u001b[0;32mif\u001b[0m \u001b[0misComplexType\u001b[0m\u001b[0;34m(\u001b[0m\u001b[0mt\u001b[0m\u001b[0;34m)\u001b[0m \u001b[0;32melse\u001b[0m \u001b[0;34m'd->d'\u001b[0m\u001b[0;34m\u001b[0m\u001b[0;34m\u001b[0m\u001b[0m\n\u001b[1;32m    551\u001b[0m     \u001b[0mextobj\u001b[0m \u001b[0;34m=\u001b[0m \u001b[0mget_linalg_error_extobj\u001b[0m\u001b[0;34m(\u001b[0m\u001b[0m_raise_linalgerror_singular\u001b[0m\u001b[0;34m)\u001b[0m\u001b[0;34m\u001b[0m\u001b[0;34m\u001b[0m\u001b[0m\n\u001b[0;32m--> 552\u001b[0;31m     \u001b[0mainv\u001b[0m \u001b[0;34m=\u001b[0m \u001b[0m_umath_linalg\u001b[0m\u001b[0;34m.\u001b[0m\u001b[0minv\u001b[0m\u001b[0;34m(\u001b[0m\u001b[0ma\u001b[0m\u001b[0;34m,\u001b[0m \u001b[0msignature\u001b[0m\u001b[0;34m=\u001b[0m\u001b[0msignature\u001b[0m\u001b[0;34m,\u001b[0m \u001b[0mextobj\u001b[0m\u001b[0;34m=\u001b[0m\u001b[0mextobj\u001b[0m\u001b[0;34m)\u001b[0m\u001b[0;34m\u001b[0m\u001b[0;34m\u001b[0m\u001b[0m\n\u001b[0m\u001b[1;32m    553\u001b[0m     \u001b[0;32mreturn\u001b[0m \u001b[0mwrap\u001b[0m\u001b[0;34m(\u001b[0m\u001b[0mainv\u001b[0m\u001b[0;34m.\u001b[0m\u001b[0mastype\u001b[0m\u001b[0;34m(\u001b[0m\u001b[0mresult_t\u001b[0m\u001b[0;34m,\u001b[0m \u001b[0mcopy\u001b[0m\u001b[0;34m=\u001b[0m\u001b[0;32mFalse\u001b[0m\u001b[0;34m)\u001b[0m\u001b[0;34m)\u001b[0m\u001b[0;34m\u001b[0m\u001b[0;34m\u001b[0m\u001b[0m\n\u001b[1;32m    554\u001b[0m \u001b[0;34m\u001b[0m\u001b[0m\n",
            "\u001b[0;32m/usr/local/lib/python3.10/dist-packages/numpy/linalg/linalg.py\u001b[0m in \u001b[0;36m_raise_linalgerror_singular\u001b[0;34m(err, flag)\u001b[0m\n\u001b[1;32m     87\u001b[0m \u001b[0;34m\u001b[0m\u001b[0m\n\u001b[1;32m     88\u001b[0m \u001b[0;32mdef\u001b[0m \u001b[0m_raise_linalgerror_singular\u001b[0m\u001b[0;34m(\u001b[0m\u001b[0merr\u001b[0m\u001b[0;34m,\u001b[0m \u001b[0mflag\u001b[0m\u001b[0;34m)\u001b[0m\u001b[0;34m:\u001b[0m\u001b[0;34m\u001b[0m\u001b[0;34m\u001b[0m\u001b[0m\n\u001b[0;32m---> 89\u001b[0;31m     \u001b[0;32mraise\u001b[0m \u001b[0mLinAlgError\u001b[0m\u001b[0;34m(\u001b[0m\u001b[0;34m\"Singular matrix\"\u001b[0m\u001b[0;34m)\u001b[0m\u001b[0;34m\u001b[0m\u001b[0;34m\u001b[0m\u001b[0m\n\u001b[0m\u001b[1;32m     90\u001b[0m \u001b[0;34m\u001b[0m\u001b[0m\n\u001b[1;32m     91\u001b[0m \u001b[0;32mdef\u001b[0m \u001b[0m_raise_linalgerror_nonposdef\u001b[0m\u001b[0;34m(\u001b[0m\u001b[0merr\u001b[0m\u001b[0;34m,\u001b[0m \u001b[0mflag\u001b[0m\u001b[0;34m)\u001b[0m\u001b[0;34m:\u001b[0m\u001b[0;34m\u001b[0m\u001b[0;34m\u001b[0m\u001b[0m\n",
            "\u001b[0;31mLinAlgError\u001b[0m: Singular matrix"
          ]
        }
      ]
    },
    {
      "cell_type": "markdown",
      "metadata": {
        "id": "1FJk7xgEOo5w"
      },
      "source": [
        "14) Создать 8x8 матрицу и заполнить её в шахматном порядке нулями и единицами."
      ]
    },
    {
      "cell_type": "code",
      "execution_count": 179,
      "metadata": {
        "colab": {
          "base_uri": "https://localhost:8080/"
        },
        "id": "cF2neW52Oo5x",
        "outputId": "362cfb95-1636-41c1-fd22-6ef9f18ea024"
      },
      "outputs": [
        {
          "output_type": "stream",
          "name": "stdout",
          "text": [
            "[[0 1 0 1 0 1 0 1]\n",
            " [1 0 1 0 1 0 1 0]\n",
            " [0 1 0 1 0 1 0 1]\n",
            " [1 0 1 0 1 0 1 0]\n",
            " [0 1 0 1 0 1 0 1]\n",
            " [1 0 1 0 1 0 1 0]\n",
            " [0 1 0 1 0 1 0 1]\n",
            " [1 0 1 0 1 0 1 0]]\n"
          ]
        }
      ],
      "source": [
        "matrix = np.zeros((8, 8), dtype=int)\n",
        "matrix[1::2, ::2] = 1\n",
        "matrix[::2, 1::2] = 1\n",
        "\n",
        "print(matrix)"
      ]
    }
  ],
  "metadata": {
    "kernelspec": {
      "display_name": "Python 3",
      "language": "python",
      "name": "python3"
    },
    "language_info": {
      "codemirror_mode": {
        "name": "ipython",
        "version": 3
      },
      "file_extension": ".py",
      "mimetype": "text/x-python",
      "name": "python",
      "nbconvert_exporter": "python",
      "pygments_lexer": "ipython3",
      "version": "3.8.0"
    },
    "colab": {
      "provenance": []
    }
  },
  "nbformat": 4,
  "nbformat_minor": 0
}